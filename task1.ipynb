{
 "cells": [
  {
   "cell_type": "code",
   "execution_count": 3,
   "id": "8f792695-67f6-4c33-bace-88134d409b6d",
   "metadata": {},
   "outputs": [
    {
     "data": {
      "text/html": [
       "<div>\n",
       "<style scoped>\n",
       "    .dataframe tbody tr th:only-of-type {\n",
       "        vertical-align: middle;\n",
       "    }\n",
       "\n",
       "    .dataframe tbody tr th {\n",
       "        vertical-align: top;\n",
       "    }\n",
       "\n",
       "    .dataframe thead th {\n",
       "        text-align: right;\n",
       "    }\n",
       "</style>\n",
       "<table border=\"1\" class=\"dataframe\">\n",
       "  <thead>\n",
       "    <tr style=\"text-align: right;\">\n",
       "      <th></th>\n",
       "      <th>Name</th>\n",
       "      <th>Age</th>\n",
       "      <th>Course</th>\n",
       "      <th>University</th>\n",
       "    </tr>\n",
       "  </thead>\n",
       "  <tbody>\n",
       "    <tr>\n",
       "      <th>0</th>\n",
       "      <td>Murari</td>\n",
       "      <td>20</td>\n",
       "      <td>Computer Science</td>\n",
       "      <td>Mohan Babu University</td>\n",
       "    </tr>\n",
       "    <tr>\n",
       "      <th>1</th>\n",
       "      <td>Bob Smith</td>\n",
       "      <td>22</td>\n",
       "      <td>Mechanical Engineering</td>\n",
       "      <td>MIT</td>\n",
       "    </tr>\n",
       "    <tr>\n",
       "      <th>2</th>\n",
       "      <td>Catherine Lee</td>\n",
       "      <td>20</td>\n",
       "      <td>Biotechnology</td>\n",
       "      <td>Harvard University</td>\n",
       "    </tr>\n",
       "    <tr>\n",
       "      <th>3</th>\n",
       "      <td>David Brown</td>\n",
       "      <td>23</td>\n",
       "      <td>Electrical Engineering</td>\n",
       "      <td>UC Berkeley</td>\n",
       "    </tr>\n",
       "    <tr>\n",
       "      <th>4</th>\n",
       "      <td>Eva Green</td>\n",
       "      <td>21</td>\n",
       "      <td>Mathematics</td>\n",
       "      <td>Princeton University</td>\n",
       "    </tr>\n",
       "  </tbody>\n",
       "</table>\n",
       "</div>"
      ],
      "text/plain": [
       "            Name  Age                  Course             University\n",
       "0         Murari   20        Computer Science  Mohan Babu University\n",
       "1      Bob Smith   22  Mechanical Engineering                    MIT\n",
       "2  Catherine Lee   20           Biotechnology     Harvard University\n",
       "3    David Brown   23  Electrical Engineering            UC Berkeley\n",
       "4      Eva Green   21             Mathematics   Princeton University"
      ]
     },
     "execution_count": 3,
     "metadata": {},
     "output_type": "execute_result"
    }
   ],
   "source": [
    "import pandas as pd\n",
    "df = pd.read_csv('students.csv')\n",
    "df"
   ]
  },
  {
   "cell_type": "code",
   "execution_count": null,
   "id": "9e67671f-0d50-4c58-b120-6c642a62eced",
   "metadata": {},
   "outputs": [],
   "source": [
    "# Format\tMethod\n",
    "# CSV\tdf.to_csv()\n",
    "# Excel\tdf.to_excel()\n",
    "# JSON\tdf.to_json()\n",
    "# SQL\tdf.to_sql()\n",
    "# HTML\tdf.to_html()"
   ]
  },
  {
   "cell_type": "code",
   "execution_count": 4,
   "id": "cb5afdba-1c92-4f31-8b8f-f6a8a1764a85",
   "metadata": {},
   "outputs": [],
   "source": [
    "df.to_csv('students_copy.csv',index = False)"
   ]
  },
  {
   "cell_type": "code",
   "execution_count": 5,
   "id": "11c1640c-b3a8-4f5a-9522-0d8bc577ba0d",
   "metadata": {
    "collapsed": true,
    "jupyter": {
     "outputs_hidden": true
    }
   },
   "outputs": [
    {
     "name": "stdout",
     "output_type": "stream",
     "text": [
      "Collecting joblib\n",
      "  Downloading joblib-1.4.2-py3-none-any.whl.metadata (5.4 kB)\n",
      "Downloading joblib-1.4.2-py3-none-any.whl (301 kB)\n",
      "   ---------------------------------------- 0.0/301.8 kB ? eta -:--:--\n",
      "   --- ----------------------------------- 30.7/301.8 kB 640.0 kB/s eta 0:00:01\n",
      "   -------------------- ------------------- 153.6/301.8 kB 2.3 MB/s eta 0:00:01\n",
      "   ---------------------------------------- 301.8/301.8 kB 2.7 MB/s eta 0:00:00\n",
      "Installing collected packages: joblib\n",
      "Successfully installed joblib-1.4.2\n",
      "Note: you may need to restart the kernel to use updated packages.\n"
     ]
    },
    {
     "name": "stderr",
     "output_type": "stream",
     "text": [
      "\n",
      "[notice] A new release of pip is available: 24.0 -> 25.0.1\n",
      "[notice] To update, run: python.exe -m pip install --upgrade pip\n"
     ]
    }
   ],
   "source": [
    "# It saves model into the file and we can reuse without running the code\n",
    "pip install joblib"
   ]
  },
  {
   "cell_type": "code",
   "execution_count": 5,
   "id": "232067c9-dbd7-42f6-9934-a25dd53a7a6d",
   "metadata": {},
   "outputs": [
    {
     "data": {
      "text/plain": [
       "['df.pkl']"
      ]
     },
     "execution_count": 5,
     "metadata": {},
     "output_type": "execute_result"
    }
   ],
   "source": [
    "import joblib\n",
    "joblib.dump(df, 'df.pkl')"
   ]
  },
  {
   "cell_type": "code",
   "execution_count": 7,
   "id": "3eff87f6-f14e-47e0-90ff-ff404dad0a0d",
   "metadata": {},
   "outputs": [
    {
     "name": "stdout",
     "output_type": "stream",
     "text": [
      "Collecting flask\n",
      "  Downloading flask-3.1.0-py3-none-any.whl.metadata (2.7 kB)\n",
      "Collecting Werkzeug>=3.1 (from flask)\n",
      "  Downloading werkzeug-3.1.3-py3-none-any.whl.metadata (3.7 kB)\n",
      "Requirement already satisfied: Jinja2>=3.1.2 in c:\\users\\neeru\\appdata\\local\\programs\\python\\python312\\lib\\site-packages (from flask) (3.1.6)\n",
      "Collecting itsdangerous>=2.2 (from flask)\n",
      "  Downloading itsdangerous-2.2.0-py3-none-any.whl.metadata (1.9 kB)\n",
      "Collecting click>=8.1.3 (from flask)\n",
      "  Downloading click-8.1.8-py3-none-any.whl.metadata (2.3 kB)\n",
      "Collecting blinker>=1.9 (from flask)\n",
      "  Downloading blinker-1.9.0-py3-none-any.whl.metadata (1.6 kB)\n",
      "Requirement already satisfied: colorama in c:\\users\\neeru\\appdata\\local\\programs\\python\\python312\\lib\\site-packages (from click>=8.1.3->flask) (0.4.6)\n",
      "Requirement already satisfied: MarkupSafe>=2.0 in c:\\users\\neeru\\appdata\\local\\programs\\python\\python312\\lib\\site-packages (from Jinja2>=3.1.2->flask) (3.0.2)\n",
      "Downloading flask-3.1.0-py3-none-any.whl (102 kB)\n",
      "   ---------------------------------------- 0.0/103.0 kB ? eta -:--:--\n",
      "   --------------------------- ------------ 71.7/103.0 kB 2.0 MB/s eta 0:00:01\n",
      "   ---------------------------------------- 103.0/103.0 kB 3.0 MB/s eta 0:00:00\n",
      "Downloading blinker-1.9.0-py3-none-any.whl (8.5 kB)\n",
      "Downloading click-8.1.8-py3-none-any.whl (98 kB)\n",
      "   ---------------------------------------- 0.0/98.2 kB ? eta -:--:--\n",
      "   ---------------------------------------- 98.2/98.2 kB ? eta 0:00:00\n",
      "Downloading itsdangerous-2.2.0-py3-none-any.whl (16 kB)\n",
      "Downloading werkzeug-3.1.3-py3-none-any.whl (224 kB)\n",
      "   ---------------------------------------- 0.0/224.5 kB ? eta -:--:--\n",
      "   --------------------- ------------------ 122.9/224.5 kB 3.6 MB/s eta 0:00:01\n",
      "   --------------------- ------------------ 122.9/224.5 kB 3.6 MB/s eta 0:00:01\n",
      "   ---------------------------------------- 224.5/224.5 kB 1.7 MB/s eta 0:00:00\n",
      "Installing collected packages: Werkzeug, itsdangerous, click, blinker, flask\n",
      "Successfully installed Werkzeug-3.1.3 blinker-1.9.0 click-8.1.8 flask-3.1.0 itsdangerous-2.2.0\n",
      "Note: you may need to restart the kernel to use updated packages.\n"
     ]
    },
    {
     "name": "stderr",
     "output_type": "stream",
     "text": [
      "\n",
      "[notice] A new release of pip is available: 24.0 -> 25.0.1\n",
      "[notice] To update, run: python.exe -m pip install --upgrade pip\n"
     ]
    }
   ],
   "source": [
    "pip install flask"
   ]
  },
  {
   "cell_type": "code",
   "execution_count": 8,
   "id": "8cc074a3-599f-4929-967a-e2060d341838",
   "metadata": {},
   "outputs": [
    {
     "name": "stdout",
     "output_type": "stream",
     "text": [
      " * Serving Flask app '__main__'\n",
      " * Debug mode: on\n"
     ]
    },
    {
     "name": "stderr",
     "output_type": "stream",
     "text": [
      "WARNING: This is a development server. Do not use it in a production deployment. Use a production WSGI server instead.\n",
      " * Running on http://127.0.0.1:5000\n",
      "Press CTRL+C to quit\n",
      " * Restarting with stat\n"
     ]
    },
    {
     "ename": "SystemExit",
     "evalue": "1",
     "output_type": "error",
     "traceback": [
      "An exception has occurred, use %tb to see the full traceback.\n",
      "\u001b[31mSystemExit\u001b[39m\u001b[31m:\u001b[39m 1\n"
     ]
    },
    {
     "name": "stderr",
     "output_type": "stream",
     "text": [
      "C:\\Users\\neeru\\AppData\\Local\\Programs\\Python\\Python312\\Lib\\site-packages\\IPython\\core\\interactiveshell.py:3675: UserWarning: To exit: use 'exit', 'quit', or Ctrl-D.\n",
      "  warn(\"To exit: use 'exit', 'quit', or Ctrl-D.\", stacklevel=1)\n"
     ]
    }
   ],
   "source": [
    "from flask import Flask, jsonify\n",
    "import joblib\n",
    "import os\n",
    "\n",
    "app = Flask(__name__)\n",
    "\n",
    "# Load the DataFrame from df.pkl\n",
    "DATA_PATH = 'df.pkl'\n",
    "\n",
    "# Check if file exists\n",
    "if os.path.exists(DATA_PATH):\n",
    "    df = joblib.load(DATA_PATH)\n",
    "else:\n",
    "    df = None\n",
    "\n",
    "@app.route('/')\n",
    "def home():\n",
    "    return \"Welcome to the Student Data API!\"\n",
    "\n",
    "@app.route('/students', methods=['GET'])\n",
    "def get_students():\n",
    "    if df is not None:\n",
    "        return jsonify(df.to_dict(orient='records'))\n",
    "    else:\n",
    "        return jsonify({'error': 'Data not found'}), 404\n",
    "\n",
    "if __name__ == '__main__':\n",
    "    app.run(debug=True)\n"
   ]
  }
 ],
 "metadata": {
  "kernelspec": {
   "display_name": "Python 3 (ipykernel)",
   "language": "python",
   "name": "python3"
  },
  "language_info": {
   "codemirror_mode": {
    "name": "ipython",
    "version": 3
   },
   "file_extension": ".py",
   "mimetype": "text/x-python",
   "name": "python",
   "nbconvert_exporter": "python",
   "pygments_lexer": "ipython3",
   "version": "3.12.4"
  }
 },
 "nbformat": 4,
 "nbformat_minor": 5
}
